{
  "nbformat": 4,
  "nbformat_minor": 0,
  "metadata": {
    "colab": {
      "provenance": []
    },
    "kernelspec": {
      "name": "python3",
      "display_name": "Python 3"
    },
    "language_info": {
      "name": "python"
    }
  },
  "cells": [
    {
      "cell_type": "markdown",
      "metadata": {
        "id": "UcW_Vp-APXr-"
      },
      "source": [
        "## **Practice: Boolean logic**\n",
        "\n",
        "In this sheet, we'll review boolean logic.\n",
        "\n",
        "**Exercise 1**\n",
        "\n",
        "Create a code box below. Create a boolean variable (name it however you like), set it equal to True, and print it out."
      ]
    },
    {
      "cell_type": "code",
      "source": [
        "MaishaLovesRain=True\n",
        "print(MaishaLovesRain)"
      ],
      "metadata": {
        "colab": {
          "base_uri": "https://localhost:8080/"
        },
        "id": "z8ZK7LpceJ4P",
        "outputId": "28ab9c39-f1a0-470c-d134-3200c899cbb9"
      },
      "execution_count": 1,
      "outputs": [
        {
          "output_type": "stream",
          "name": "stdout",
          "text": [
            "True\n"
          ]
        }
      ]
    },
    {
      "cell_type": "markdown",
      "metadata": {
        "id": "ssT6s9IrPxux"
      },
      "source": [
        "**Exercise 2**\n",
        "\n",
        "Create code box below. Create two variables called ``thing1`` and ``thing2``, one equal to 5, one equal 7. Write boolean expressions to check if:\n",
        "- 5 is less than 7\n",
        "- 5 equals 7\n",
        "- 5 is not equal to 7\n",
        "\n",
        "Run your code to make sure it prints out you expect."
      ]
    },
    {
      "cell_type": "code",
      "source": [
        "thing1=5\n",
        "thing2=7\n",
        "thing1<thing2\n"
      ],
      "metadata": {
        "colab": {
          "base_uri": "https://localhost:8080/"
        },
        "id": "onh0FWmjd1yP",
        "outputId": "59f06cb9-970a-4615-cae7-ff54587c065d"
      },
      "execution_count": null,
      "outputs": [
        {
          "output_type": "execute_result",
          "data": {
            "text/plain": [
              "True"
            ]
          },
          "metadata": {},
          "execution_count": 9
        }
      ]
    },
    {
      "cell_type": "code",
      "source": [
        "thing1==thing2"
      ],
      "metadata": {
        "colab": {
          "base_uri": "https://localhost:8080/"
        },
        "id": "fKo4ASqCeqex",
        "outputId": "2c75f8d2-3951-49c6-e525-2b6b6cebaca8"
      },
      "execution_count": null,
      "outputs": [
        {
          "output_type": "execute_result",
          "data": {
            "text/plain": [
              "False"
            ]
          },
          "metadata": {},
          "execution_count": 10
        }
      ]
    },
    {
      "cell_type": "code",
      "source": [
        "thing1!=thing2"
      ],
      "metadata": {
        "colab": {
          "base_uri": "https://localhost:8080/"
        },
        "id": "ndeNd7oxetNn",
        "outputId": "1732655e-3c87-465b-cdf7-b39cec51ebc7"
      },
      "execution_count": null,
      "outputs": [
        {
          "output_type": "execute_result",
          "data": {
            "text/plain": [
              "True"
            ]
          },
          "metadata": {},
          "execution_count": 11
        }
      ]
    },
    {
      "cell_type": "markdown",
      "metadata": {
        "id": "pF3ciPNOQNvo"
      },
      "source": [
        "**Exercise 3**\n",
        "\n",
        "Create a code box below. Create another variable called ``thing3``. Set it equal to 3. Write boolean expressions using ``not``, ``and``, ``or`` to check if:\n",
        "- 5 is not equal to 7\n",
        "- 5 is less than both 3 and 7\n",
        "- 5 is greater than 3 and smaller than 7\n",
        "- 5 is greater than at least one of 3 and 7\n",
        "\n",
        "Run your code to make sure it prints out you expect."
      ]
    },
    {
      "cell_type": "code",
      "source": [
        "thing3=3\n",
        "not thing1==thing2"
      ],
      "metadata": {
        "colab": {
          "base_uri": "https://localhost:8080/"
        },
        "id": "XWYo7Vj2eGoM",
        "outputId": "3e978517-95a6-43f8-d721-398794561539"
      },
      "execution_count": null,
      "outputs": [
        {
          "output_type": "execute_result",
          "data": {
            "text/plain": [
              "True"
            ]
          },
          "metadata": {},
          "execution_count": 12
        }
      ]
    },
    {
      "cell_type": "code",
      "source": [
        "thing1 < thing2 and thing1 < thing3"
      ],
      "metadata": {
        "colab": {
          "base_uri": "https://localhost:8080/"
        },
        "id": "87cstiz5fMy4",
        "outputId": "7f764dea-bd63-4796-d0f3-0a321fe82e48"
      },
      "execution_count": null,
      "outputs": [
        {
          "output_type": "execute_result",
          "data": {
            "text/plain": [
              "False"
            ]
          },
          "metadata": {},
          "execution_count": 13
        }
      ]
    },
    {
      "cell_type": "code",
      "source": [
        "thing1 > thing3 and thing1 < thing2"
      ],
      "metadata": {
        "colab": {
          "base_uri": "https://localhost:8080/"
        },
        "id": "-xK8JinjfZlD",
        "outputId": "56692cfe-c597-4a3d-8f1f-ac65c64a4842"
      },
      "execution_count": null,
      "outputs": [
        {
          "output_type": "execute_result",
          "data": {
            "text/plain": [
              "True"
            ]
          },
          "metadata": {},
          "execution_count": 14
        }
      ]
    },
    {
      "cell_type": "code",
      "source": [
        "thing1 > thing2 or thing1 > thing2"
      ],
      "metadata": {
        "colab": {
          "base_uri": "https://localhost:8080/"
        },
        "id": "UXUT1C4Kfjr9",
        "outputId": "7e3887fc-4031-4429-ec5e-b77bd28f5706"
      },
      "execution_count": null,
      "outputs": [
        {
          "output_type": "execute_result",
          "data": {
            "text/plain": [
              "False"
            ]
          },
          "metadata": {},
          "execution_count": 15
        }
      ]
    }
  ]
}