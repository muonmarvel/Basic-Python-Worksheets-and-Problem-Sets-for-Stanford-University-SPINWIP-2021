{
  "nbformat": 4,
  "nbformat_minor": 0,
  "metadata": {
    "colab": {
      "provenance": []
    },
    "kernelspec": {
      "name": "python3",
      "display_name": "Python 3"
    },
    "language_info": {
      "name": "python"
    }
  },
  "cells": [
    {
      "cell_type": "markdown",
      "metadata": {
        "id": "m1XXuAv_Tvy4"
      },
      "source": [
        "## **Section worksheet: Boolean logic**\n",
        "\n",
        "Let's look at some more complicated boolean expressions\n",
        "\n"
      ]
    },
    {
      "cell_type": "code",
      "metadata": {
        "id": "CaIGnjlQTMDg"
      },
      "source": [
        "c = ((not a) and (not b)) or (a and not b)"
      ],
      "execution_count": null,
      "outputs": []
    },
    {
      "cell_type": "markdown",
      "metadata": {
        "id": "PIFQCT4RTWOy"
      },
      "source": [
        "If ``a = True`` and ``b = True``, then ``c = False``\n",
        "\n",
        "If ``a = True`` and ``b = False``, then ``c = True``\n",
        "\n",
        "If ``a = False`` and ``b = True``, then ``c = False``\n",
        "\n",
        "If ``a = False`` and ``b = False``, then ``c = True``\n"
      ]
    },
    {
      "cell_type": "code",
      "metadata": {
        "colab": {
          "base_uri": "https://localhost:8080/"
        },
        "id": "I38F26t_NChH",
        "outputId": "870d7c08-000a-4c5b-db69-270f0fa5ef44"
      },
      "source": [
        "a1 = True\n",
        "b1 = True\n",
        "c1 = ((not a1) and (not b1)) or (a1 and not b1)\n",
        "print(c1)"
      ],
      "execution_count": null,
      "outputs": [
        {
          "output_type": "stream",
          "text": [
            "False\n"
          ],
          "name": "stdout"
        }
      ]
    },
    {
      "cell_type": "code",
      "metadata": {
        "colab": {
          "base_uri": "https://localhost:8080/"
        },
        "id": "6d7d3eZ9NPsL",
        "outputId": "51ed86b7-c7f7-4d7e-8355-d89890136234"
      },
      "source": [
        "a2 = True\n",
        "b2 = False\n",
        "c2 = ((not a2) and (not b2)) or (a2 and not b2)\n",
        "print(c2)"
      ],
      "execution_count": null,
      "outputs": [
        {
          "output_type": "stream",
          "text": [
            "True\n"
          ],
          "name": "stdout"
        }
      ]
    },
    {
      "cell_type": "code",
      "metadata": {
        "colab": {
          "base_uri": "https://localhost:8080/"
        },
        "id": "BxK9bsaWNVJ1",
        "outputId": "e701c4b2-73b2-440c-e9a5-9dc99f788c2e"
      },
      "source": [
        "a3 = False\n",
        "b3 = True\n",
        "c3 = ((not a3) and (not b3)) or (a3 and not b3)\n",
        "print(c3)"
      ],
      "execution_count": null,
      "outputs": [
        {
          "output_type": "stream",
          "text": [
            "False\n"
          ],
          "name": "stdout"
        }
      ]
    },
    {
      "cell_type": "code",
      "metadata": {
        "colab": {
          "base_uri": "https://localhost:8080/"
        },
        "id": "riDSkebKNXrz",
        "outputId": "4374c636-0b0e-4896-fbcf-f24e1f6f4d92"
      },
      "source": [
        "a4 = False\n",
        "b4 = False\n",
        "c4 = ((not a4) and (not b4)) or (a4 and not b4)\n",
        "print(c4)"
      ],
      "execution_count": null,
      "outputs": [
        {
          "output_type": "stream",
          "text": [
            "True\n"
          ],
          "name": "stdout"
        }
      ]
    },
    {
      "cell_type": "markdown",
      "metadata": {
        "id": "nvMm1ABPT1FH"
      },
      "source": [
        "Now test these out by creating variables ``a, b, c`` and printing out ``c``."
      ]
    },
    {
      "cell_type": "code",
      "metadata": {
        "id": "5z9z2JwpTozR"
      },
      "source": [
        "d = (a or b) and (not a or not c)"
      ],
      "execution_count": null,
      "outputs": []
    },
    {
      "cell_type": "markdown",
      "metadata": {
        "id": "aFV9azhaTwXV"
      },
      "source": [
        "If ``a = True`` and ``b = True``, then ``d = True``\n",
        "\n",
        "If ``a = True`` and ``b = False``, then ``d = False``\n",
        "\n",
        "If ``a = False`` and ``b = True``, then ``d = True``\n",
        "\n",
        "If ``a = False`` and ``b = False``, then ``d = False``"
      ]
    },
    {
      "cell_type": "markdown",
      "metadata": {
        "id": "Bm-V_-U-T-35"
      },
      "source": [
        "Now test these out by creating variables ``a, b, c`` and printing out ``d``."
      ]
    },
    {
      "cell_type": "code",
      "metadata": {
        "colab": {
          "base_uri": "https://localhost:8080/"
        },
        "id": "V0jTwdwHNeZg",
        "outputId": "8f95d182-e0de-4770-d420-8e3594434fe0"
      },
      "source": [
        "d1 = (a1 or b1) and (not a1 or not c1)\n",
        "print(d1)"
      ],
      "execution_count": null,
      "outputs": [
        {
          "output_type": "stream",
          "text": [
            "True\n"
          ],
          "name": "stdout"
        }
      ]
    },
    {
      "cell_type": "code",
      "metadata": {
        "colab": {
          "base_uri": "https://localhost:8080/"
        },
        "id": "6BHIOrOXN4Oa",
        "outputId": "7ea5573e-1f22-4493-9c3e-504b7c0d8603"
      },
      "source": [
        "d2 = (a2 or b2) and (not a2 or not c2)\n",
        "print(d2)"
      ],
      "execution_count": null,
      "outputs": [
        {
          "output_type": "stream",
          "text": [
            "False\n"
          ],
          "name": "stdout"
        }
      ]
    },
    {
      "cell_type": "code",
      "metadata": {
        "colab": {
          "base_uri": "https://localhost:8080/"
        },
        "id": "uen182jJN8mw",
        "outputId": "c06a14f5-919a-492f-fced-cb3beb33a14c"
      },
      "source": [
        "d3 = (a3 or b3) and (not a3 or not c3)\n",
        "print(d3)"
      ],
      "execution_count": null,
      "outputs": [
        {
          "output_type": "stream",
          "text": [
            "True\n"
          ],
          "name": "stdout"
        }
      ]
    },
    {
      "cell_type": "code",
      "metadata": {
        "colab": {
          "base_uri": "https://localhost:8080/"
        },
        "id": "CpK8hb9jN_VI",
        "outputId": "067f4574-df5d-40ab-e480-b6735a6fdab2"
      },
      "source": [
        "d4 = (a4 or b4) and (not a4 or not c4)\n",
        "print(d4)"
      ],
      "execution_count": null,
      "outputs": [
        {
          "output_type": "stream",
          "text": [
            "False\n"
          ],
          "name": "stdout"
        }
      ]
    },
    {
      "cell_type": "markdown",
      "metadata": {
        "id": "dCGdw1dapcrj"
      },
      "source": [
        "When might this be useful? Let's say you have a coffee shop, and you're designing cups of various sizes. You want to make sure that you named the cups correcly - the small cup should hold the least liquid, the large cup the most, etc. Write a single boolean expression to check if this is true."
      ]
    },
    {
      "cell_type": "code",
      "metadata": {
        "id": "a2Z6k9LKqOTU",
        "colab": {
          "base_uri": "https://localhost:8080/"
        },
        "outputId": "369aa373-b7bf-4938-c956-8892d59afa65"
      },
      "source": [
        "small = 8 ## the small cup holds 8 ounces\n",
        "medium = 12 ## the medium cup holds 12 ounces\n",
        "large = 16 ## the larger cups holds 16 ounces.\n",
        "## these are correctly named, your expression should return true\n",
        "\n",
        "(small < medium) and (medium < large)"
      ],
      "execution_count": null,
      "outputs": [
        {
          "output_type": "execute_result",
          "data": {
            "text/plain": [
              "True"
            ]
          },
          "metadata": {
            "tags": []
          },
          "execution_count": 14
        }
      ]
    },
    {
      "cell_type": "code",
      "metadata": {
        "id": "k05aDaayq93-",
        "colab": {
          "base_uri": "https://localhost:8080/"
        },
        "outputId": "245316ab-a04e-40ab-bbdc-e647ac66af26"
      },
      "source": [
        "small = 12 ## the small cup holds 12 ounces\n",
        "medium = 8 ## the medium cup holds 8 ounces\n",
        "large = 16 ## the larger cups holds 16 ounces.\n",
        "## these are incorrectly named, your expression should return false\n",
        "\n",
        "(small < medium) and (medium < large)"
      ],
      "execution_count": null,
      "outputs": [
        {
          "output_type": "execute_result",
          "data": {
            "text/plain": [
              "False"
            ]
          },
          "metadata": {
            "tags": []
          },
          "execution_count": 15
        }
      ]
    },
    {
      "cell_type": "markdown",
      "source": [
        "Maisha was here hidden note: Personally I prefer tea."
      ],
      "metadata": {
        "id": "Ic_woHtsDbrV"
      }
    }
  ]
}