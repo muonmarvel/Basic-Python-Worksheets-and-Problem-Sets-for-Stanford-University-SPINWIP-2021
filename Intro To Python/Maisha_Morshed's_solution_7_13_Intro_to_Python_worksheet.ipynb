{
  "nbformat": 4,
  "nbformat_minor": 0,
  "metadata": {
    "colab": {
      "provenance": []
    },
    "kernelspec": {
      "name": "python3",
      "display_name": "Python 3"
    },
    "language_info": {
      "name": "python"
    }
  },
  "cells": [
    {
      "cell_type": "markdown",
      "metadata": {
        "id": "1UKaFG7qvbai"
      },
      "source": [
        "## **Intro to Python: Section**\n",
        "\n",
        "Today we'll work on some more complex math problems to get you used to order of operations."
      ]
    },
    {
      "cell_type": "markdown",
      "metadata": {
        "id": "e0S7qiYex5lv"
      },
      "source": [
        "**Problem 1: Areas and Volumes**\n",
        "\n",
        "In the code cells below, create variables called ``areaSquare``, ``areaTriangle``, ``areaCircle``. Use math operations to find the areas of the respective shapes."
      ]
    },
    {
      "cell_type": "code",
      "metadata": {
        "id": "lbsaCvXVy3YU"
      },
      "source": [
        "# square\n",
        "side = 3\n",
        "areaSquare = 3 ** 2\n",
        "\n",
        "# triangle\n",
        "base = 2\n",
        "height = 3.5\n",
        "areaTriangle = (base * height) / 2\n",
        "\n",
        "# circle\n",
        "radius = 1.6\n",
        "areaCircle = 3.14 * (radius ** 2)"
      ],
      "execution_count": null,
      "outputs": []
    },
    {
      "cell_type": "markdown",
      "metadata": {
        "id": "YrvxifEYzRDN"
      },
      "source": [
        "Now use those variables to calculate the volume of a cube with same dimensions as the square above, a pyramid with a square base and the same height as the triangle, and a sphere with the same radius as the circle"
      ]
    },
    {
      "cell_type": "code",
      "metadata": {
        "id": "-EbAIizy0Pgc"
      },
      "source": [
        "# cube\n",
        "volumeCube = areaSquare * side\n",
        "\n",
        "# pyramid\n",
        "volumePyramid = (base ** 2) * height / 3\n",
        "\n",
        "# sphere\n",
        "volumeSphere = 4/3 * 3.14 * (radius ** 3)"
      ],
      "execution_count": null,
      "outputs": []
    },
    {
      "cell_type": "markdown",
      "source": [
        "Maisha was here."
      ],
      "metadata": {
        "id": "X2nSZSjSBoHa"
      }
    },
    {
      "cell_type": "markdown",
      "source": [],
      "metadata": {
        "id": "dfW7icJNBnww"
      }
    }
  ]
}