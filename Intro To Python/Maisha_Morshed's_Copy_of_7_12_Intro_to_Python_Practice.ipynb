{
  "nbformat": 4,
  "nbformat_minor": 0,
  "metadata": {
    "colab": {
      "provenance": []
    },
    "kernelspec": {
      "name": "python3",
      "display_name": "Python 3"
    },
    "language_info": {
      "name": "python"
    }
  },
  "cells": [
    {
      "cell_type": "markdown",
      "metadata": {
        "id": "bmcIdGZCKvhe"
      },
      "source": [
        "## **Practice: Intro to Python**\n",
        "\n",
        "This is your first practice sheet. We'll just go over the basics of Google Colab, then practice some math in Python.\n",
        "\n",
        "To have a look at how to edit text in Google Colab, go ahead and double click on this paragraph and look at what pops up. Go ahead and click on the icons at the top of the text box to see what they do.\n",
        "\n",
        "Use this line to experiment on the font types and styles."
      ]
    },
    {
      "cell_type": "code",
      "source": [
        "#Maisha is a Swiftie!"
      ],
      "metadata": {
        "id": "WfaFMq39u_Ac"
      },
      "execution_count": 4,
      "outputs": []
    },
    {
      "cell_type": "code",
      "metadata": {
        "id": "CT7UeH0SLqZi"
      },
      "source": [
        "# hi there!"
      ],
      "execution_count": 5,
      "outputs": []
    },
    {
      "cell_type": "markdown",
      "source": [],
      "metadata": {
        "id": "0_1mwEazvK4-"
      }
    },
    {
      "cell_type": "markdown",
      "metadata": {
        "id": "oK38WWFtL9dp"
      },
      "source": [
        "Before we start coding, let's make sure we know how to run it. Here's the code we saw in lecture. Go ahead it and run it!\n",
        "\n"
      ]
    },
    {
      "cell_type": "code",
      "metadata": {
        "id": "V3VM-OVsMXMk",
        "colab": {
          "base_uri": "https://localhost:8080/"
        },
        "outputId": "f7b5900d-535a-4631-cebf-98dcbf9505c9"
      },
      "source": [
        "variable = 'Hello world!'\n",
        "\n",
        "print(variable)"
      ],
      "execution_count": null,
      "outputs": [
        {
          "output_type": "stream",
          "name": "stdout",
          "text": [
            "Hello world!\n"
          ]
        }
      ]
    },
    {
      "cell_type": "code",
      "source": [
        "variable='Maisha is a Swiftie!'\n",
        "print(variable)"
      ],
      "metadata": {
        "colab": {
          "base_uri": "https://localhost:8080/"
        },
        "id": "ag_P1CtEBHmD",
        "outputId": "7004f0b0-fc73-4512-b0ae-757a4bad4fa1"
      },
      "execution_count": 6,
      "outputs": [
        {
          "output_type": "stream",
          "name": "stdout",
          "text": [
            "Maisha is a Swiftie!\n"
          ]
        }
      ]
    },
    {
      "cell_type": "markdown",
      "metadata": {
        "id": "ZTE7RaWZMafF"
      },
      "source": [
        "Now, let's review variables. Create 3 different variables:\n",
        "- One called ``string``, containing the string \"I'm learning how to code\"\n",
        "\n",
        "- One called ``speed``, containing the number 299,792,458. (when you actually write the number in code, you leave out the commas).\n",
        "\n",
        "- One called ``hbar``, containing the number 1.0545.\n",
        "\n",
        "To do this, create a code box below this text box and write your code."
      ]
    },
    {
      "cell_type": "code",
      "source": [
        "string = \"I'm learning how to code\"\n",
        "speed = 299792458\n",
        "hbar = 1.0545"
      ],
      "metadata": {
        "id": "mgkq6Wqnv2ty"
      },
      "execution_count": null,
      "outputs": []
    },
    {
      "cell_type": "markdown",
      "metadata": {
        "id": "Uj23leqNNUoG"
      },
      "source": [
        "Now, let's do a bit of arithmetic. Create a new code box and:\n",
        "- Add 300 to ``speed`` and print the result\n",
        "- Substract 0.345 from ``hbar`` and print the result\n",
        "- Multiply ``speed`` and ``hbar`` together and print the result"
      ]
    },
    {
      "cell_type": "code",
      "source": [
        "speed += 300\n",
        "print(speed)\n",
        "hbar -= 0.345\n",
        "print(hbar)\n",
        "answer= speed * hbar\n",
        "print(answer)\n",
        "##Problem solved!"
      ],
      "metadata": {
        "colab": {
          "base_uri": "https://localhost:8080/"
        },
        "id": "ma6iyfDGwPQG",
        "outputId": "484f4a80-de2d-41c1-bf03-85f38b32b2a8"
      },
      "execution_count": null,
      "outputs": [
        {
          "output_type": "stream",
          "name": "stdout",
          "text": [
            "299792758\n",
            "0.7095\n",
            "212702961.801\n"
          ]
        }
      ]
    },
    {
      "cell_type": "markdown",
      "metadata": {
        "id": "ychR7CMnNu37"
      },
      "source": [
        "Last step: comments. Click the code box you create above and add a comment to it."
      ]
    }
  ]
}